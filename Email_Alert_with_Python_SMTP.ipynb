{
  "nbformat": 4,
  "nbformat_minor": 0,
  "metadata": {
    "colab": {
      "name": "Email Alert with Python SMTP.ipynb",
      "provenance": [],
      "collapsed_sections": [],
      "authorship_tag": "ABX9TyMRsjRtRCBDFBz9DGLQOUV6",
      "include_colab_link": true
    },
    "kernelspec": {
      "name": "python3",
      "display_name": "Python 3"
    }
  },
  "cells": [
    {
      "cell_type": "markdown",
      "metadata": {
        "id": "view-in-github",
        "colab_type": "text"
      },
      "source": [
        "<a href=\"https://colab.research.google.com/github/hnvivek/Send-Email-Alerts-Python-SMTP/blob/main/Email_Alert_with_Python_SMTP.ipynb\" target=\"_parent\"><img src=\"https://colab.research.google.com/assets/colab-badge.svg\" alt=\"Open In Colab\"/></a>"
      ]
    },
    {
      "cell_type": "code",
      "metadata": {
        "id": "FBWvPsbrnykj"
      },
      "source": [
        "import smtplib\n",
        "import datetime"
      ],
      "execution_count": 1,
      "outputs": []
    },
    {
      "cell_type": "code",
      "metadata": {
        "id": "fZYEVgefn0qq"
      },
      "source": [
        "gmail_user = 'hnvivek@gmail.com' # Your email ID\n",
        "gmail_password = 'Brigham@850' # Your Password"
      ],
      "execution_count": 22,
      "outputs": []
    },
    {
      "cell_type": "code",
      "metadata": {
        "id": "XZ34Dy-joCLi"
      },
      "source": [
        "#email properties\n",
        "sent_from = gmail_user\n",
        "to = ['vivekhnarayann@gmail.com']\n",
        "subject = 'Alert for reduced in price'\n",
        "email_text = \"\"\"\n",
        "Alert for change in price\n",
        "\"\"\"\n",
        "message = 'Subject: {}\\n\\n{}'.format(subject, email_text)"
      ],
      "execution_count": 24,
      "outputs": []
    },
    {
      "cell_type": "code",
      "metadata": {
        "colab": {
          "base_uri": "https://localhost:8080/"
        },
        "id": "0ev0OPpd9V1x",
        "outputId": "c0f990ac-bef3-4b2e-a863-79075b384121"
      },
      "source": [
        "print(message)"
      ],
      "execution_count": 28,
      "outputs": [
        {
          "output_type": "stream",
          "text": [
            "Subject: Alert for reduced in price\n",
            "\n",
            "\n",
            "Alert for change in price\n",
            "\n"
          ],
          "name": "stdout"
        }
      ]
    },
    {
      "cell_type": "code",
      "metadata": {
        "colab": {
          "base_uri": "https://localhost:8080/"
        },
        "id": "QWtPd46DoWIz",
        "outputId": "5035732d-1aab-40ae-d24c-2d2ca10010e1"
      },
      "source": [
        "#email send request\n",
        "try:\n",
        "    server = smtplib.SMTP_SSL('smtp.gmail.com', 465)\n",
        "    server.ehlo()\n",
        "    server.login(gmail_user, gmail_password)\n",
        "    server.sendmail(sent_from, to,message)\n",
        "    server.close()\n",
        "\n",
        "    print ('Email sent!')\n",
        "except Exception as e:\n",
        "    print(e)\n",
        "    print ('Something went wrong...')"
      ],
      "execution_count": 26,
      "outputs": [
        {
          "output_type": "stream",
          "text": [
            "Email sent!\n"
          ],
          "name": "stdout"
        }
      ]
    },
    {
      "cell_type": "code",
      "metadata": {
        "id": "WXMz0yf7sxBt"
      },
      "source": [
        ""
      ],
      "execution_count": null,
      "outputs": []
    }
  ]
}